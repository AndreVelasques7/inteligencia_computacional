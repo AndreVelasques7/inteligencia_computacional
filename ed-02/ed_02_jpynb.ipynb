{
  "nbformat": 4,
  "nbformat_minor": 0,
  "metadata": {
    "colab": {
      "provenance": [],
      "authorship_tag": "ABX9TyMNtu43rM+P55Z3POioxfTS",
      "include_colab_link": true
    },
    "kernelspec": {
      "name": "python3",
      "display_name": "Python 3"
    },
    "language_info": {
      "name": "python"
    }
  },
  "cells": [
    {
      "cell_type": "markdown",
      "metadata": {
        "id": "view-in-github",
        "colab_type": "text"
      },
      "source": [
        "<a href=\"https://colab.research.google.com/github/AndreVelasques7/inteligencia_computacional/blob/main/ed-02/ed_02_jpynb.ipynb\" target=\"_parent\"><img src=\"https://colab.research.google.com/assets/colab-badge.svg\" alt=\"Open In Colab\"/></a>"
      ]
    },
    {
      "cell_type": "code",
      "execution_count": 7,
      "metadata": {
        "colab": {
          "base_uri": "https://localhost:8080/"
        },
        "id": "WPjPjafhM_mC",
        "outputId": "6b4ab3e7-ed4c-4070-bdf5-ed4fff08fbe3"
      },
      "outputs": [
        {
          "output_type": "stream",
          "name": "stdout",
          "text": [
            "Alunos em ordem alfabética:\n",
            "Bruce - Média: 3.33\n",
            "Daenerys - Média: 3.67\n",
            "Diana - Média: 5.00\n",
            "Frodo - Média: 5.67\n",
            "Harry - Média: 5.00\n",
            "Hermione - Média: 8.33\n",
            "Katniss - Média: 5.67\n",
            "Luke - Média: 6.33\n",
            "Sherlock - Média: 7.00\n",
            "Tony - Média: 5.67\n",
            "\n",
            "Alunos em ordem decrescente de média:\n",
            "Hermione - Média: 8.33\n",
            "Sherlock - Média: 7.00\n",
            "Luke - Média: 6.33\n",
            "Frodo - Média: 5.67\n",
            "Tony - Média: 5.67\n",
            "Katniss - Média: 5.67\n",
            "Diana - Média: 5.00\n",
            "Harry - Média: 5.00\n",
            "Daenerys - Média: 3.67\n",
            "Bruce - Média: 3.33\n",
            "\n",
            "Dois alunos com maior média:\n",
            "Hermione - Média: 8.33\n",
            "Sherlock - Média: 7.00\n",
            "\n",
            "Dois alunos com menor média:\n",
            "Daenerys - Média: 3.67\n",
            "Bruce - Média: 3.33\n",
            "\n",
            "Média da turma: 5.57\n",
            "\n",
            "Alunos abaixo da média da turma:\n",
            "Bruce - Média: 3.33\n",
            "Diana - Média: 5.00\n",
            "Harry - Média: 5.00\n",
            "Daenerys - Média: 3.67\n"
          ]
        }
      ],
      "source": [
        "from dataclasses import dataclass\n",
        "import random\n",
        "\n",
        "@dataclass\n",
        "class Aluno:\n",
        "    nome: str\n",
        "    matricula: int\n",
        "    notas: list[float]\n",
        "\n",
        "    def get_media(self) -> float:\n",
        "        \"\"\"Retorna a média das notas do aluno.\"\"\"\n",
        "        return sum(self.notas) / len(self.notas)\n",
        "\n",
        "# Lista de nomes de personagens fictícios\n",
        "nomes_personagens = [\"Harry\", \"Frodo\", \"Luke\", \"Daenerys\", \"Sherlock\", \"Katniss\", \"Bruce\", \"Diana\", \"Tony\", \"Hermione\"]\n",
        "\n",
        "alunos = []\n",
        "\n",
        "# Gera alunos com nomes aleatórios de personagens e notas aleatórias\n",
        "for i in range(10):\n",
        "    nome = random.choice(nomes_personagens)  # Escolhe um nome aleatório da lista\n",
        "    nomes_personagens.remove(nome)           # Remove o nome escolhido para evitar repetição\n",
        "    matricula = i + 1\n",
        "    notas = [random.randint(0, 10) for _ in range(3)]  # Gera 3 notas aleatórias entre 0 e 10\n",
        "    aluno = Aluno(nome, matricula, notas)\n",
        "    alunos.append(aluno)\n",
        "\n",
        "# Exibe alunos em ordem alfabética\n",
        "alunos_ordenados_nome = sorted(alunos, key=lambda x: x.nome)\n",
        "print(\"Alunos em ordem alfabética:\")\n",
        "for aluno in alunos_ordenados_nome:\n",
        "    print(f\"{aluno.nome} - Média: {aluno.get_media():.2f}\")\n",
        "\n",
        "# Exibe alunos ordenados pela média em ordem decrescente\n",
        "alunos_ordenados_media = sorted(alunos, key=lambda x: x.get_media(), reverse=True)\n",
        "print(\"\\nAlunos em ordem decrescente de média:\")\n",
        "for aluno in alunos_ordenados_media:\n",
        "    print(f\"{aluno.nome} - Média: {aluno.get_media():.2f}\")\n",
        "\n",
        "# Exibe os dois alunos com as maiores médias\n",
        "top_alunos = alunos_ordenados_media[:2]\n",
        "print(\"\\nDois alunos com maior média:\")\n",
        "for aluno in top_alunos:\n",
        "    print(f\"{aluno.nome} - Média: {aluno.get_media():.2f}\")\n",
        "\n",
        "# Exibe os dois alunos com as menores médias\n",
        "piores_alunos = alunos_ordenados_media[-2:]\n",
        "print(\"\\nDois alunos com menor média:\")\n",
        "for aluno in piores_alunos:\n",
        "    print(f\"{aluno.nome} - Média: {aluno.get_media():.2f}\")\n",
        "\n",
        "# Calcula e exibe a média da turma\n",
        "media_turma = sum(aluno.get_media() for aluno in alunos) / len(alunos)\n",
        "print(f\"\\nMédia da turma: {media_turma:.2f}\")\n",
        "\n",
        "# Exibe os alunos que estão abaixo da média da turma\n",
        "print(\"\\nAlunos abaixo da média da turma:\")\n",
        "for aluno in alunos:\n",
        "    if aluno.get_media() < media_turma:\n",
        "        print(f\"{aluno.nome} - Média: {aluno.get_media():.2f}\")\n"
      ]
    }
  ]
}